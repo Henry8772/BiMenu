{
 "cells": [
  {
   "cell_type": "code",
   "execution_count": 7,
   "metadata": {},
   "outputs": [],
   "source": [
    "\n",
    "from collections import namedtuple\n",
    "from PIL import Image, ImageDraw, ImageFont\n",
    "from google.cloud import vision\n",
    "from enum import Enum\n",
    "%matplotlib inline\n",
    "import matplotlib.pyplot as plt\n",
    "import os\n",
    "import json\n",
    "from google.protobuf.json_format import MessageToJson\n",
    "from google.protobuf import json_format\n",
    "\n",
    "import sys\n",
    "sys.path.append(\"../../\")\n",
    "from models.bounding_box import FeatureType, Point, BoundingBox\n",
    "from utils.cv_preprocess import draw_boxes, group_bounding_boxes, merge_box_groups\n",
    "\n",
    "from utils.file_utils import prepare_image_local, prepare_image_web, load_counter, save_counter, save_json\n",
    "\n",
    "from utils.nlp_preprocess import *\n",
    "\n",
    "os.environ['GOOGLE_APPLICATION_CREDENTIALS'] = '../../menu-ocr-390814-99b5549068a5.json'\n"
   ]
  },
  {
   "cell_type": "code",
   "execution_count": 8,
   "metadata": {},
   "outputs": [],
   "source": [
    "# Directory containing images\n",
    "image_directory = '../../dataset/menu_photo/'\n",
    "\n",
    "# Directories for storing OCR data\n",
    "raw_ocr_directory = '../../dataset/menu_photo_ocr_raw/'\n"
   ]
  },
  {
   "cell_type": "code",
   "execution_count": 9,
   "metadata": {},
   "outputs": [
    {
     "name": "stdout",
     "output_type": "stream",
     "text": [
      "../../dataset/menu_photo_ocr_raw/rest (2)_raw_annotation.json exists, move to next one\n",
      "../../dataset/menu_photo_ocr_raw/rest (4)_raw_annotation.json exists, move to next one\n",
      "../../dataset/menu_photo_ocr_raw/rest (6)_raw_annotation.json exists, move to next one\n",
      "../../dataset/menu_photo_ocr_raw/rest (1)_raw_annotation.json exists, move to next one\n",
      "../../dataset/menu_photo_ocr_raw/rest (3)_raw_annotation.json exists, move to next one\n",
      "../../dataset/menu_photo_ocr_raw/rest (7)_raw_annotation.json exists, move to next one\n",
      "../../dataset/menu_photo_ocr_raw/menu_v1.1_raw_annotation.json exists, move to next one\n",
      "../../dataset/menu_photo_ocr_raw/rest (5)_raw_annotation.json exists, move to next one\n",
      "../../dataset/menu_photo_ocr_raw/rest (9)_raw_annotation.json exists, move to next one\n",
      "../../dataset/menu_photo_ocr_raw/rest (8)_raw_annotation.json exists, move to next one\n",
      "../../dataset/menu_photo_ocr_raw/rest (10)_raw_annotation.json exists, move to next one\n"
     ]
    }
   ],
   "source": [
    "# Initialize Google Cloud Vision client\n",
    "client = vision.ImageAnnotatorClient()\n",
    "\n",
    "# Traverse through all images in the directory\n",
    "for file_name in os.listdir(image_directory):\n",
    "    if file_name.endswith('.png') or file_name.endswith('.jpg') or file_name.endswith('.webp'):\n",
    "        file_path = os.path.join(image_directory, file_name)\n",
    "        file_name_without_extension = os.path.splitext(file_name)[0]\n",
    "\n",
    "        # Construct raw OCR file path\n",
    "        raw_ocr_filename = file_name_without_extension + \"_raw_annotation.json\"\n",
    "        raw_ocr_path = os.path.join(raw_ocr_directory, raw_ocr_filename)\n",
    "\n",
    "        # Check if OCR file already exists\n",
    "        if os.path.exists(raw_ocr_path):\n",
    "            print(f'{raw_ocr_path} exists, move to next one')\n",
    "            continue\n",
    "\n",
    "        # Prepare image for OCR\n",
    "        image = prepare_image_local(file_path)\n",
    "\n",
    "        # Perform OCR\n",
    "        response = client.document_text_detection(\n",
    "            image=image, \n",
    "            image_context={\"language_hints\": [\"zh\", \"en\"]}\n",
    "        )\n",
    "\n",
    "        # Convert OCR response to JSON\n",
    "        document_json = MessageToJson(response.full_text_annotation._pb)\n",
    "\n",
    "        # Create directory if it doesn't exist\n",
    "        if not os.path.exists(raw_ocr_directory):\n",
    "            os.makedirs(raw_ocr_directory)\n",
    "\n",
    "        # Save OCR data to file\n",
    "        with open(raw_ocr_path, 'w', encoding='utf-8') as json_file:\n",
    "            json_file.write(document_json)\n",
    "\n",
    "        # Load, increment, and save the counter\n",
    "        current_count = load_counter()\n",
    "        current_count += 1\n",
    "        save_counter(current_count)"
   ]
  }
 ],
 "metadata": {
  "kernelspec": {
   "display_name": "bimenu",
   "language": "python",
   "name": "python3"
  },
  "language_info": {
   "codemirror_mode": {
    "name": "ipython",
    "version": 3
   },
   "file_extension": ".py",
   "mimetype": "text/x-python",
   "name": "python",
   "nbconvert_exporter": "python",
   "pygments_lexer": "ipython3",
   "version": "3.9.15"
  },
  "orig_nbformat": 4
 },
 "nbformat": 4,
 "nbformat_minor": 2
}
