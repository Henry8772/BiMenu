{
 "cells": [
  {
   "cell_type": "code",
   "execution_count": null,
   "metadata": {},
   "outputs": [],
   "source": [
    "import os\n",
    "import json\n",
    "# from googletrans import Translator\n",
    "# from tqdm import tqdm\n",
    "import sys\n",
    "sys.path.append(\"..\")\n",
    "\n",
    "from utils.file_utils import prepare_image_local, prepare_image_web, load_counter, save_counter, save_json\n",
    "\n",
    "\n",
    "def traverse_and_collect_json_data(directory):\n",
    "    all_data = []\n",
    "    files_with_empty_chinese_name = []\n",
    "\n",
    "\n",
    "    # Iterate through all files in the directory\n",
    "    for filename in os.listdir(directory):\n",
    "        if filename.endswith('.json'):\n",
    "            file_path = os.path.join(directory, filename)\n",
    "            \n",
    "            # Read the JSON file\n",
    "            try:\n",
    "                with open(file_path, 'r', encoding='utf-8') as file:\n",
    "                    data = json.load(file)\n",
    "                    all_data.extend(data)\n",
    "\n",
    "                    # Check for empty 'chinese_name' and report filename\n",
    "                    for item in data:\n",
    "                        if 'chinese_name' in item and not item['chinese_name']:\n",
    "                            files_with_empty_chinese_name.append(filename)\n",
    "                            break  # Breaks the inner loop, continues with the next file\n",
    "\n",
    "            except Exception as e:\n",
    "                print(f\"Error reading file {filename}: {e}\")\n",
    "     # Report files with empty 'chinese_name'\n",
    "    if files_with_empty_chinese_name:\n",
    "        print(\"Files with empty 'chinese_name':\")\n",
    "        for file in files_with_empty_chinese_name:\n",
    "            print(file)\n",
    "\n",
    "    return all_data\n",
    "\n",
    "\n",
    "data = traverse_and_collect_json_data('../downloaded_menu/prep_ocr_v2')"
   ]
  }
 ],
 "metadata": {
  "language_info": {
   "name": "python"
  }
 },
 "nbformat": 4,
 "nbformat_minor": 2
}
