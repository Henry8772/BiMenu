{
 "cells": [
  {
   "cell_type": "code",
   "execution_count": 5,
   "metadata": {},
   "outputs": [],
   "source": [
    "import spacy\n",
    "\n",
    "import re\n",
    "from sklearn.metrics.pairwise import cosine_similarity\n",
    "from sklearn.feature_extraction.text import TfidfVectorizer\n",
    "from nltk.corpus import stopwords\n",
    "from nltk.stem import WordNetLemmatizer\n",
    "from nltk.tokenize import word_tokenize\n",
    "import nltk\n",
    "import json\n",
    "\n",
    "from spacy.language import Language\n",
    "from typing import Dict, List, Set, Tuple\n",
    "from collections import defaultdict, namedtuple\n",
    "import copy\n",
    "from statistics import mean \n",
    "import io\n",
    "from PIL import Image, ImageDraw, ImageFont\n",
    "%matplotlib inline\n",
    "import matplotlib.pyplot as plt\n",
    "import numpy as np\n",
    "from google.protobuf.json_format import MessageToJson, Parse\n",
    "from google.protobuf import json_format\n",
    "\n",
    "import os\n",
    "import sys\n",
    "sys.path.append(\"..\")\n",
    "from models.dish_segmenter import Dish\n",
    "from models.bounding_box import FeatureType, Point, BoundingBox, DSU\n",
    "from models.word_unit import WordUnit\n",
    "from utils.cv_preprocess import *\n",
    "from utils.file_utils import *\n",
    "from utils.nlp_preprocess import *\n",
    "from IPython.display import display\n"
   ]
  },
  {
   "cell_type": "code",
   "execution_count": 6,
   "metadata": {},
   "outputs": [],
   "source": [
    "filein = '../downloaded_menu/cleaned_img/5._Ma_La_Sichuan_0_page_5.png'\n",
    "base_name = os.path.basename(filein)\n",
    "file_name_without_extension = os.path.splitext(base_name)[0]\n",
    "\n",
    "\n",
    "raw_ocr_directory = '../downloaded_menu/raw_ocr/'\n",
    "raw_ocr_filename = file_name_without_extension + \"_raw_annotation.json\"\n",
    "raw_ocr_path = os.path.join(raw_ocr_directory, raw_ocr_filename)\n",
    "\n",
    "preprocessed_ocr_directory = '../downloaded_menu/prep_ocr/'\n",
    "preprocessed_ocr_filename = file_name_without_extension + \"_prep_ocr.json\"\n",
    "preprocessed_ocr_path = os.path.join(preprocessed_ocr_directory, preprocessed_ocr_filename)\n",
    "\n",
    "# Open the file for reading\n",
    "with open(raw_ocr_path, 'r') as file:\n",
    "    document = json.load(file)"
   ]
  },
  {
   "cell_type": "code",
   "execution_count": 8,
   "metadata": {},
   "outputs": [
    {
     "name": "stdout",
     "output_type": "stream",
     "text": [
      "[[['唐', '舍'], ['GOUQI']]]\n",
      "Chinese Name: ['唐', '舍']\n",
      "English Name: ['GOUQI']\n",
      "Chinese Description: []\n",
      "English Description: []\n",
      "Raw text: None\n",
      "\n"
     ]
    }
   ],
   "source": [
    "\n",
    "def process_menu(filein):\n",
    "    base_name = os.path.basename(filein)\n",
    "    file_name_without_extension = os.path.splitext(base_name)[0]\n",
    "\n",
    "    raw_ocr_directory = '../downloaded_menu/raw_ocr/'\n",
    "    raw_ocr_filename = file_name_without_extension + \"_raw_annotation.json\"\n",
    "    raw_ocr_path = os.path.join(raw_ocr_directory, raw_ocr_filename)\n",
    "\n",
    "    document = load_json(raw_ocr_path)\n",
    "    image = Image.open(filein)\n",
    "\n",
    "    bounds = process_bounds_in_paragraph(document)\n",
    "    filtered_bounds, chinese_bbox, english_bbox = filter_and_classify_bounds(bounds)\n",
    "\n",
    "    container_width, container_height = image.size\n",
    "    extended_boxes = extend_bounding_boxes(chinese_bbox, container_width, container_height)\n",
    "    \n",
    "    sorted_bounding_boxes = sorted(filtered_bounds, key=lambda bbox: (bbox.y_min, bbox.x_min))\n",
    "    grouped_list = group_extended_boxes(extended_boxes, sorted_bounding_boxes)\n",
    "    print(grouped_list)\n",
    "    for string_list in grouped_list:\n",
    "        \n",
    "        dish = segment_dish_text_list(string_list)\n",
    "        print(dish)\n",
    "\n",
    "# Usage example\n",
    "filein = '../downloaded_menu/cleaned_img/1._Gouqi_London_0_page_1.png'\n",
    "process_menu(filein)\n"
   ]
  }
 ],
 "metadata": {
  "kernelspec": {
   "display_name": "Translation",
   "language": "python",
   "name": "python3"
  },
  "language_info": {
   "codemirror_mode": {
    "name": "ipython",
    "version": 3
   },
   "file_extension": ".py",
   "mimetype": "text/x-python",
   "name": "python",
   "nbconvert_exporter": "python",
   "pygments_lexer": "ipython3",
   "version": "3.9.15"
  }
 },
 "nbformat": 4,
 "nbformat_minor": 2
}
