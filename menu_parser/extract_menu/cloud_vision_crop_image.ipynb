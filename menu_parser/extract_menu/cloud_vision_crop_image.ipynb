{
 "cells": [
  {
   "cell_type": "code",
   "execution_count": 53,
   "metadata": {},
   "outputs": [],
   "source": [
    "import io\n",
    "from collections import namedtuple\n",
    "from PIL import Image, ImageDraw, ImageFont\n",
    "%matplotlib inline\n",
    "import matplotlib.pyplot as plt\n",
    "import json\n",
    "import numpy as np\n",
    "from google.protobuf.json_format import MessageToJson\n",
    "from google.protobuf.json_format import Parse\n",
    "from google.protobuf import json_format\n",
    "import os\n",
    "import sys\n",
    "sys.path.append(\"../../\")\n",
    "from models.bounding_box import FeatureType, Point, BoundingBox, DSU\n",
    "from utils.cv_preprocess import draw_boxes, group_bounding_boxes, merge_box_groups\n",
    "\n",
    "from utils.file_utils import prepare_image_local, prepare_image_web, load_counter, save_counter, save_json\n",
    "\n",
    "from utils.nlp_preprocess import load_spacy_models, is_english, is_chinese, split_dish_info, is_word_relevant\n",
    "from models.word_unit import WordUnit\n",
    "from models.dish_segmenter import Dish\n",
    "from IPython.display import display\n",
    "\n"
   ]
  },
  {
   "cell_type": "code",
   "execution_count": 54,
   "metadata": {},
   "outputs": [],
   "source": [
    "def crop_image_to_segments(img_path, min_dimension=580):\n",
    "    # Load the image\n",
    "    with Image.open(img_path) as img:\n",
    "        img_width, img_height = img.size\n",
    "\n",
    "        # Determine the number of segments to crop based on the image dimensions\n",
    "        # If width or height is less than 1000, we will not enter the loop and will save only the original image\n",
    "        segments = []\n",
    "        if img_width >= img_height:  # Landscape or square orientation\n",
    "            for i in range(0, img_width, min_dimension):\n",
    "                left = i\n",
    "                upper = 0\n",
    "                right = min(i + min_dimension, img_width)\n",
    "                lower = img_height\n",
    "                segments.append((left, upper, right, lower))\n",
    "        else:  # Portrait orientation\n",
    "            for i in range(0, img_height, min_dimension):\n",
    "                left = 0\n",
    "                upper = i\n",
    "                right = img_width\n",
    "                lower = min(i + min_dimension, img_height)\n",
    "                segments.append((left, upper, right, lower))\n",
    "\n",
    "        # Crop and save each segment\n",
    "        for idx, (left, upper, right, lower) in enumerate(segments):\n",
    "            cropped_img = img.crop((left, upper, right, lower))\n",
    "            # Create a new filename for each segment\n",
    "            filename, ext = os.path.splitext(img_path)\n",
    "            new_filename = f\"{filename}_segment_{idx}{ext}\"\n",
    "            cropped_img.save(new_filename)\n",
    "            print(f\"Saved cropped segment to {new_filename}\")"
   ]
  },
  {
   "cell_type": "code",
   "execution_count": 55,
   "metadata": {},
   "outputs": [],
   "source": [
    "dir_path = '../../dataset/menu_photo'\n",
    "file_filter = 'rest ('\n",
    "all_files = [f for f in os.listdir(dir_path) if os.path.isfile(os.path.join(dir_path, f))]\n",
    "\n",
    "file_list = []\n",
    "# Find the first unprocessed file\n",
    "for file_name in all_files:\n",
    "    if file_name.startswith(file_filter):\n",
    "        file_list.append(os.path.join(dir_path, file_name))\n"
   ]
  },
  {
   "cell_type": "code",
   "execution_count": 56,
   "metadata": {},
   "outputs": [
    {
     "name": "stdout",
     "output_type": "stream",
     "text": [
      "Saved cropped segment to ../../dataset/menu_photo/rest (2)_segment_0.webp\n",
      "Saved cropped segment to ../../dataset/menu_photo/rest (2)_segment_1.webp\n",
      "Saved cropped segment to ../../dataset/menu_photo/rest (4)_segment_0.webp\n",
      "Saved cropped segment to ../../dataset/menu_photo/rest (4)_segment_1.webp\n",
      "Saved cropped segment to ../../dataset/menu_photo/rest (6)_segment_0.webp\n",
      "Saved cropped segment to ../../dataset/menu_photo/rest (6)_segment_1.webp\n",
      "Saved cropped segment to ../../dataset/menu_photo/rest (1)_segment_0.webp\n",
      "Saved cropped segment to ../../dataset/menu_photo/rest (1)_segment_1.webp\n",
      "Saved cropped segment to ../../dataset/menu_photo/rest (3)_segment_0.webp\n",
      "Saved cropped segment to ../../dataset/menu_photo/rest (3)_segment_1.webp\n",
      "Saved cropped segment to ../../dataset/menu_photo/rest (7)_segment_0.webp\n",
      "Saved cropped segment to ../../dataset/menu_photo/rest (7)_segment_1.webp\n",
      "Saved cropped segment to ../../dataset/menu_photo/rest (5)_segment_0.webp\n",
      "Saved cropped segment to ../../dataset/menu_photo/rest (5)_segment_1.webp\n",
      "Saved cropped segment to ../../dataset/menu_photo/rest (9)_segment_0.webp\n",
      "Saved cropped segment to ../../dataset/menu_photo/rest (9)_segment_1.webp\n",
      "Saved cropped segment to ../../dataset/menu_photo/rest (8)_segment_0.webp\n",
      "Saved cropped segment to ../../dataset/menu_photo/rest (8)_segment_1.webp\n",
      "Saved cropped segment to ../../dataset/menu_photo/rest (10)_segment_0.webp\n",
      "Saved cropped segment to ../../dataset/menu_photo/rest (10)_segment_1.webp\n"
     ]
    }
   ],
   "source": [
    "for file_path in file_list:\n",
    "    crop_image_to_segments(file_path)"
   ]
  }
 ],
 "metadata": {
  "kernelspec": {
   "display_name": "Translation",
   "language": "python",
   "name": "python3"
  },
  "language_info": {
   "codemirror_mode": {
    "name": "ipython",
    "version": 3
   },
   "file_extension": ".py",
   "mimetype": "text/x-python",
   "name": "python",
   "nbconvert_exporter": "python",
   "pygments_lexer": "ipython3",
   "version": "3.9.15"
  }
 },
 "nbformat": 4,
 "nbformat_minor": 2
}
